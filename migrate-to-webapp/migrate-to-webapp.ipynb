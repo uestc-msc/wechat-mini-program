{
 "metadata": {
  "language_info": {
   "codemirror_mode": {
    "name": "ipython",
    "version": 3
   },
   "file_extension": ".py",
   "mimetype": "text/x-python",
   "name": "python",
   "nbconvert_exporter": "python",
   "pygments_lexer": "ipython3",
   "version": "3.9.0"
  },
  "orig_nbformat": 2,
  "kernelspec": {
   "name": "python390jvsc74a57bd0b3a81910d08b119b8520339f0cd07e9f4bdc18a81ead01e70ab479c2d0784276",
   "display_name": "Python 3.9.0 64-bit"
  }
 },
 "nbformat": 4,
 "nbformat_minor": 2,
 "cells": [
  {
   "source": [
    "本转换脚本适用于微信小程序 **v1.3.2**、Web App 后端 **v0.2.0**\n",
    "\n",
    "**本脚本会抹除后端数据库中所有数据！！！！！！**如需要，请提前做好备份！！！"
   ],
   "cell_type": "markdown",
   "metadata": {}
  },
  {
   "source": [
    "首先需要将微信小程序云数据库的 `activity_info`、`album_info`、`comment_info` 和 `user_info` 表分别导出为 `activity_info.json`、`album_info.json`、`comment_info.json` 和 `user_info.json`，放在该 Jupyter Notebook 的同一目录。\n",
    "\n",
    "请提前做好对 `user_info.json` 的数据清洗。"
   ],
   "cell_type": "markdown",
   "metadata": {}
  },
  {
   "cell_type": "code",
   "execution_count": 1,
   "metadata": {},
   "outputs": [],
   "source": [
    "# 设置 superuser 的信息，请及时修改\n",
    "superuser_name = '刘俨晖'\n",
    "superuser_email = 'lyh543@outlook.com'\n",
    "superuser_password = 'superuser'"
   ]
  },
  {
   "cell_type": "code",
   "execution_count": 2,
   "metadata": {},
   "outputs": [],
   "source": [
    "import os\n",
    "# 设置 Django 项目的路径\n",
    "DJANGO_PROJECT_PATH = r\"C:\\Tools\\Git\\uestcmsc-webapp\\uestcmsc_webapp_backend\"\n",
    "# 备份当前路径\n",
    "try:\n",
    "    os.chdir(WX_DATA_PATH)\n",
    "except NameError:\n",
    "    WX_DATA_PATH = os.path.abspath('.')"
   ]
  },
  {
   "cell_type": "code",
   "execution_count": 3,
   "metadata": {},
   "outputs": [],
   "source": [
    "import json\n",
    "def read_wx_json(filename: str) -> list[dict]: \n",
    "    li = []\n",
    "    with open(filename, encoding='utf-8') as f:\n",
    "        for line in f:\n",
    "            if not line.startswith('//'):   # 支持注释\n",
    "                li.append(json.loads(line))\n",
    "    return li\n",
    "\n",
    "wx_activity_info = read_wx_json('activity_info.json')\n",
    "wx_gallery_info = read_wx_json('album_info.json')\n",
    "wx_comment_info = read_wx_json('comment_info.json')\n",
    "wx_user_info = read_wx_json('user_info.json')"
   ]
  },
  {
   "cell_type": "code",
   "execution_count": 4,
   "metadata": {},
   "outputs": [],
   "source": [
    "import django\n",
    "os.chdir(DJANGO_PROJECT_PATH)\n",
    "os.environ[\"DJANGO_SETTINGS_MODULE\"]=\"uestcmsc_webapp_backend.settings\"\n",
    "os.environ[\"DJANGO_ALLOW_ASYNC_UNSAFE\"] = \"true\"\n",
    "django.setup()"
   ]
  },
  {
   "cell_type": "code",
   "execution_count": 5,
   "metadata": {},
   "outputs": [],
   "source": [
    "from users.models import User, UserProfile\n",
    "from activities.models import Activity\n",
    "from activities_comments.models import Comment\n",
    "# from gallery.models import Picture"
   ]
  },
  {
   "cell_type": "code",
   "execution_count": 6,
   "metadata": {},
   "outputs": [],
   "source": [
    "from datetime import date, time, datetime\n",
    "def str2date(string: str) -> date:\n",
    "    return datetime.strptime(string, '%Y-%m-%d').date()\n",
    "def str2time(string: str) -> time:\n",
    "    return datetime.strptime(string, '%H:%M').time()\n",
    "def str2datetime(string_date: str, string_time: str) -> datetime:\n",
    "    return datetime.combine(str2date(string_date), str2time(string_time))"
   ]
  },
  {
   "source": [
    "# 用户部分\n",
    "\n",
    "User.objects.all().delete()\n",
    "\n",
    "webapp_user = dict()\n",
    "for wx_user in wx_user_info:\n",
    "\n",
    "    u = User(\n",
    "        username=wx_user['_id'],\n",
    "        is_staff=wx_user['is_admin'],\n",
    "        first_name=wx_user['username'],\n",
    "        is_superuser=wx_user['can_grant_admin'],\n",
    "        date_joined=str2date(wx_user['register_date'])\n",
    "    )\n",
    "    u.save()\n",
    "    up = UserProfile(\n",
    "        user=u,\n",
    "        student_id=wx_user['student_id'],\n",
    "        experience=wx_user['exp'])\n",
    "    up.save()\n",
    "    webapp_user[wx_user['_id']] = u\n",
    "\n",
    "superuser = User.objects.filter(first_name=superuser_name)[0]\n",
    "superuser.username = superuser_email\n",
    "superuser.is_superuser = True\n",
    "superuser.is_staff = True\n",
    "from hashlib import md5\n",
    "md5_password = md5(superuser_password.encode()).hexdigest()\n",
    "superuser.set_password(md5_password)\n",
    "superuser.save()\n"
   ],
   "cell_type": "code",
   "metadata": {
    "tags": []
   },
   "execution_count": 7,
   "outputs": [
    {
     "output_type": "stream",
     "name": "stderr",
     "text": [
      "C:\\Tools\\Python\\lib\\site-packages\\django\\db\\models\\fields\\__init__.py:1309: RuntimeWarning: DateTimeField User.date_joined received a naive datetime (2020-08-26 00:00:00) while time zone support is active.\n",
      "  warnings.warn(\"DateTimeField %s.%s received a naive datetime \"\n",
      "C:\\Tools\\Python\\lib\\site-packages\\django\\db\\models\\fields\\__init__.py:1309: RuntimeWarning: DateTimeField User.date_joined received a naive datetime (2020-08-04 00:00:00) while time zone support is active.\n",
      "  warnings.warn(\"DateTimeField %s.%s received a naive datetime \"\n",
      "C:\\Tools\\Python\\lib\\site-packages\\django\\db\\models\\fields\\__init__.py:1309: RuntimeWarning: DateTimeField User.date_joined received a naive datetime (2020-08-10 00:00:00) while time zone support is active.\n",
      "  warnings.warn(\"DateTimeField %s.%s received a naive datetime \"\n",
      "C:\\Tools\\Python\\lib\\site-packages\\django\\db\\models\\fields\\__init__.py:1309: RuntimeWarning: DateTimeField User.date_joined received a naive datetime (2020-08-11 00:00:00) while time zone support is active.\n",
      "  warnings.warn(\"DateTimeField %s.%s received a naive datetime \"\n",
      "C:\\Tools\\Python\\lib\\site-packages\\django\\db\\models\\fields\\__init__.py:1309: RuntimeWarning: DateTimeField User.date_joined received a naive datetime (2020-08-03 00:00:00) while time zone support is active.\n",
      "  warnings.warn(\"DateTimeField %s.%s received a naive datetime \"\n",
      "C:\\Tools\\Python\\lib\\site-packages\\django\\db\\models\\fields\\__init__.py:1309: RuntimeWarning: DateTimeField User.date_joined received a naive datetime (2020-08-06 00:00:00) while time zone support is active.\n",
      "  warnings.warn(\"DateTimeField %s.%s received a naive datetime \"\n",
      "C:\\Tools\\Python\\lib\\site-packages\\django\\db\\models\\fields\\__init__.py:1309: RuntimeWarning: DateTimeField User.date_joined received a naive datetime (2020-09-08 00:00:00) while time zone support is active.\n",
      "  warnings.warn(\"DateTimeField %s.%s received a naive datetime \"\n",
      "C:\\Tools\\Python\\lib\\site-packages\\django\\db\\models\\fields\\__init__.py:1309: RuntimeWarning: DateTimeField User.date_joined received a naive datetime (2020-09-10 00:00:00) while time zone support is active.\n",
      "  warnings.warn(\"DateTimeField %s.%s received a naive datetime \"\n",
      "C:\\Tools\\Python\\lib\\site-packages\\django\\db\\models\\fields\\__init__.py:1309: RuntimeWarning: DateTimeField User.date_joined received a naive datetime (2020-09-11 00:00:00) while time zone support is active.\n",
      "  warnings.warn(\"DateTimeField %s.%s received a naive datetime \"\n",
      "C:\\Tools\\Python\\lib\\site-packages\\django\\db\\models\\fields\\__init__.py:1309: RuntimeWarning: DateTimeField User.date_joined received a naive datetime (2020-09-12 00:00:00) while time zone support is active.\n",
      "  warnings.warn(\"DateTimeField %s.%s received a naive datetime \"\n",
      "C:\\Tools\\Python\\lib\\site-packages\\django\\db\\models\\fields\\__init__.py:1309: RuntimeWarning: DateTimeField User.date_joined received a naive datetime (2020-09-13 00:00:00) while time zone support is active.\n",
      "  warnings.warn(\"DateTimeField %s.%s received a naive datetime \"\n",
      "C:\\Tools\\Python\\lib\\site-packages\\django\\db\\models\\fields\\__init__.py:1309: RuntimeWarning: DateTimeField User.date_joined received a naive datetime (2020-09-14 00:00:00) while time zone support is active.\n",
      "  warnings.warn(\"DateTimeField %s.%s received a naive datetime \"\n",
      "C:\\Tools\\Python\\lib\\site-packages\\django\\db\\models\\fields\\__init__.py:1309: RuntimeWarning: DateTimeField User.date_joined received a naive datetime (2020-09-15 00:00:00) while time zone support is active.\n",
      "  warnings.warn(\"DateTimeField %s.%s received a naive datetime \"\n",
      "C:\\Tools\\Python\\lib\\site-packages\\django\\db\\models\\fields\\__init__.py:1309: RuntimeWarning: DateTimeField User.date_joined received a naive datetime (2020-09-16 00:00:00) while time zone support is active.\n",
      "  warnings.warn(\"DateTimeField %s.%s received a naive datetime \"\n",
      "C:\\Tools\\Python\\lib\\site-packages\\django\\db\\models\\fields\\__init__.py:1309: RuntimeWarning: DateTimeField User.date_joined received a naive datetime (2020-09-19 00:00:00) while time zone support is active.\n",
      "  warnings.warn(\"DateTimeField %s.%s received a naive datetime \"\n",
      "C:\\Tools\\Python\\lib\\site-packages\\django\\db\\models\\fields\\__init__.py:1309: RuntimeWarning: DateTimeField User.date_joined received a naive datetime (2020-09-20 00:00:00) while time zone support is active.\n",
      "  warnings.warn(\"DateTimeField %s.%s received a naive datetime \"\n",
      "C:\\Tools\\Python\\lib\\site-packages\\django\\db\\models\\fields\\__init__.py:1309: RuntimeWarning: DateTimeField User.date_joined received a naive datetime (2020-09-22 00:00:00) while time zone support is active.\n",
      "  warnings.warn(\"DateTimeField %s.%s received a naive datetime \"\n",
      "C:\\Tools\\Python\\lib\\site-packages\\django\\db\\models\\fields\\__init__.py:1309: RuntimeWarning: DateTimeField User.date_joined received a naive datetime (2020-09-23 00:00:00) while time zone support is active.\n",
      "  warnings.warn(\"DateTimeField %s.%s received a naive datetime \"\n",
      "C:\\Tools\\Python\\lib\\site-packages\\django\\db\\models\\fields\\__init__.py:1309: RuntimeWarning: DateTimeField User.date_joined received a naive datetime (2020-09-29 00:00:00) while time zone support is active.\n",
      "  warnings.warn(\"DateTimeField %s.%s received a naive datetime \"\n",
      "C:\\Tools\\Python\\lib\\site-packages\\django\\db\\models\\fields\\__init__.py:1309: RuntimeWarning: DateTimeField User.date_joined received a naive datetime (2020-10-01 00:00:00) while time zone support is active.\n",
      "  warnings.warn(\"DateTimeField %s.%s received a naive datetime \"\n",
      "C:\\Tools\\Python\\lib\\site-packages\\django\\db\\models\\fields\\__init__.py:1309: RuntimeWarning: DateTimeField User.date_joined received a naive datetime (2020-10-05 00:00:00) while time zone support is active.\n",
      "  warnings.warn(\"DateTimeField %s.%s received a naive datetime \"\n",
      "C:\\Tools\\Python\\lib\\site-packages\\django\\db\\models\\fields\\__init__.py:1309: RuntimeWarning: DateTimeField User.date_joined received a naive datetime (2020-10-08 00:00:00) while time zone support is active.\n",
      "  warnings.warn(\"DateTimeField %s.%s received a naive datetime \"\n",
      "C:\\Tools\\Python\\lib\\site-packages\\django\\db\\models\\fields\\__init__.py:1309: RuntimeWarning: DateTimeField User.date_joined received a naive datetime (2020-10-10 00:00:00) while time zone support is active.\n",
      "  warnings.warn(\"DateTimeField %s.%s received a naive datetime \"\n",
      "C:\\Tools\\Python\\lib\\site-packages\\django\\db\\models\\fields\\__init__.py:1309: RuntimeWarning: DateTimeField User.date_joined received a naive datetime (2020-10-24 00:00:00) while time zone support is active.\n",
      "  warnings.warn(\"DateTimeField %s.%s received a naive datetime \"\n",
      "C:\\Tools\\Python\\lib\\site-packages\\django\\db\\models\\fields\\__init__.py:1309: RuntimeWarning: DateTimeField User.date_joined received a naive datetime (2020-10-25 00:00:00) while time zone support is active.\n",
      "  warnings.warn(\"DateTimeField %s.%s received a naive datetime \"\n",
      "C:\\Tools\\Python\\lib\\site-packages\\django\\db\\models\\fields\\__init__.py:1309: RuntimeWarning: DateTimeField User.date_joined received a naive datetime (2020-10-26 00:00:00) while time zone support is active.\n",
      "  warnings.warn(\"DateTimeField %s.%s received a naive datetime \"\n",
      "C:\\Tools\\Python\\lib\\site-packages\\django\\db\\models\\fields\\__init__.py:1309: RuntimeWarning: DateTimeField User.date_joined received a naive datetime (2020-11-23 00:00:00) while time zone support is active.\n",
      "  warnings.warn(\"DateTimeField %s.%s received a naive datetime \"\n",
      "C:\\Tools\\Python\\lib\\site-packages\\django\\db\\models\\fields\\__init__.py:1309: RuntimeWarning: DateTimeField User.date_joined received a naive datetime (2020-11-28 00:00:00) while time zone support is active.\n",
      "  warnings.warn(\"DateTimeField %s.%s received a naive datetime \"\n",
      "C:\\Tools\\Python\\lib\\site-packages\\django\\db\\models\\fields\\__init__.py:1309: RuntimeWarning: DateTimeField User.date_joined received a naive datetime (2020-12-26 00:00:00) while time zone support is active.\n",
      "  warnings.warn(\"DateTimeField %s.%s received a naive datetime \"\n",
      "C:\\Tools\\Python\\lib\\site-packages\\django\\db\\models\\fields\\__init__.py:1309: RuntimeWarning: DateTimeField User.date_joined received a naive datetime (2020-12-28 00:00:00) while time zone support is active.\n",
      "  warnings.warn(\"DateTimeField %s.%s received a naive datetime \"\n"
     ]
    }
   ]
  },
  {
   "cell_type": "code",
   "execution_count": 8,
   "metadata": {},
   "outputs": [
    {
     "output_type": "stream",
     "name": "stderr",
     "text": [
      "C:\\Tools\\Python\\lib\\site-packages\\django\\db\\models\\fields\\__init__.py:1367: RuntimeWarning: DateTimeField Activity.datetime received a naive datetime (2020-09-20 20:00:00) while time zone support is active.\n",
      "  warnings.warn(\"DateTimeField %s received a naive datetime (%s)\"\n",
      "C:\\Tools\\Python\\lib\\site-packages\\django\\db\\models\\fields\\__init__.py:1367: RuntimeWarning: DateTimeField Activity.datetime received a naive datetime (2020-09-13 21:00:00) while time zone support is active.\n",
      "  warnings.warn(\"DateTimeField %s received a naive datetime (%s)\"\n",
      "C:\\Tools\\Python\\lib\\site-packages\\django\\db\\models\\fields\\__init__.py:1367: RuntimeWarning: DateTimeField Activity.datetime received a naive datetime (2020-09-16 20:00:00) while time zone support is active.\n",
      "  warnings.warn(\"DateTimeField %s received a naive datetime (%s)\"\n",
      "C:\\Tools\\Python\\lib\\site-packages\\django\\db\\models\\fields\\__init__.py:1367: RuntimeWarning: DateTimeField Activity.datetime received a naive datetime (2020-09-19 20:00:00) while time zone support is active.\n",
      "  warnings.warn(\"DateTimeField %s received a naive datetime (%s)\"\n",
      "C:\\Tools\\Python\\lib\\site-packages\\django\\db\\models\\fields\\__init__.py:1367: RuntimeWarning: DateTimeField Activity.datetime received a naive datetime (2020-10-08 14:00:00) while time zone support is active.\n",
      "  warnings.warn(\"DateTimeField %s received a naive datetime (%s)\"\n",
      "C:\\Tools\\Python\\lib\\site-packages\\django\\db\\models\\fields\\__init__.py:1367: RuntimeWarning: DateTimeField Activity.datetime received a naive datetime (2020-10-24 08:00:00) while time zone support is active.\n",
      "  warnings.warn(\"DateTimeField %s received a naive datetime (%s)\"\n",
      "C:\\Tools\\Python\\lib\\site-packages\\django\\db\\models\\fields\\__init__.py:1367: RuntimeWarning: DateTimeField Activity.datetime received a naive datetime (2020-11-07 14:30:00) while time zone support is active.\n",
      "  warnings.warn(\"DateTimeField %s received a naive datetime (%s)\"\n",
      "C:\\Tools\\Python\\lib\\site-packages\\django\\db\\models\\fields\\__init__.py:1367: RuntimeWarning: DateTimeField Activity.datetime received a naive datetime (2020-12-05 15:00:00) while time zone support is active.\n",
      "  warnings.warn(\"DateTimeField %s received a naive datetime (%s)\"\n",
      "C:\\Tools\\Python\\lib\\site-packages\\django\\db\\models\\fields\\__init__.py:1367: RuntimeWarning: DateTimeField Activity.datetime received a naive datetime (2020-11-28 16:00:00) while time zone support is active.\n",
      "  warnings.warn(\"DateTimeField %s received a naive datetime (%s)\"\n",
      "C:\\Tools\\Python\\lib\\site-packages\\django\\db\\models\\fields\\__init__.py:1367: RuntimeWarning: DateTimeField Activity.datetime received a naive datetime (2020-12-26 21:00:00) while time zone support is active.\n",
      "  warnings.warn(\"DateTimeField %s received a naive datetime (%s)\"\n"
     ]
    }
   ],
   "source": [
    "# 活动部分\n",
    "\n",
    "webapp_activity = dict()\n",
    "Activity.objects.all().delete()\n",
    "\n",
    "for wx_activity in wx_activity_info:\n",
    "    if wx_activity['is_hidden']:\n",
    "        continue\n",
    "\n",
    "    activity = Activity(\n",
    "            datetime = str2datetime(wx_activity['date'], wx_activity['time']),\n",
    "            location = wx_activity['location'],\n",
    "            title = wx_activity['title'],\n",
    "    )\n",
    "    activity.save()\n",
    "    webapp_activity[wx_activity['_id']] = activity\n",
    "\n",
    "    for wx_presenter_id in wx_activity['presenter_list']:\n",
    "        activity.presenter.add(webapp_user[wx_presenter_id])\n",
    "    for wx_attender_id in wx_activity['check_in_list']:\n",
    "        if wx_attender_id in webapp_user: # 可能有用户参加了活动，但没有绑定信息，只能忽略掉此次签到\n",
    "            activity.attender.add(webapp_user[wx_attender_id])"
   ]
  },
  {
   "cell_type": "code",
   "execution_count": 9,
   "metadata": {},
   "outputs": [
    {
     "output_type": "error",
     "ename": "KeyError",
     "evalue": "'b4f7b7d25fa8a806005850a2362afc47'",
     "traceback": [
      "\u001b[1;31m---------------------------------------------------------------------------\u001b[0m",
      "\u001b[1;31mKeyError\u001b[0m                                  Traceback (most recent call last)",
      "\u001b[1;32m<ipython-input-9-8962a84d2921>\u001b[0m in \u001b[0;36m<module>\u001b[1;34m\u001b[0m\n\u001b[0;32m      7\u001b[0m         \u001b[0mwx_comment\u001b[0m\u001b[1;33m[\u001b[0m\u001b[1;34m'reply'\u001b[0m\u001b[1;33m]\u001b[0m\u001b[1;33m=\u001b[0m\u001b[1;34m''\u001b[0m\u001b[1;33m\u001b[0m\u001b[1;33m\u001b[0m\u001b[0m\n\u001b[0;32m      8\u001b[0m     comment = Comment(\n\u001b[1;32m----> 9\u001b[1;33m         \u001b[0mactivity\u001b[0m \u001b[1;33m=\u001b[0m \u001b[0mwebapp_activity\u001b[0m\u001b[1;33m[\u001b[0m\u001b[0mwx_comment\u001b[0m\u001b[1;33m[\u001b[0m\u001b[1;34m'activity_id'\u001b[0m\u001b[1;33m]\u001b[0m\u001b[1;33m]\u001b[0m\u001b[1;33m,\u001b[0m\u001b[1;33m\u001b[0m\u001b[1;33m\u001b[0m\u001b[0m\n\u001b[0m\u001b[0;32m     10\u001b[0m         \u001b[0muser\u001b[0m \u001b[1;33m=\u001b[0m \u001b[0mwebapp_user\u001b[0m\u001b[1;33m[\u001b[0m\u001b[0mwx_comment\u001b[0m\u001b[1;33m[\u001b[0m\u001b[1;34m'_openid'\u001b[0m\u001b[1;33m]\u001b[0m\u001b[1;33m]\u001b[0m\u001b[1;33m,\u001b[0m\u001b[1;33m\u001b[0m\u001b[1;33m\u001b[0m\u001b[0m\n\u001b[0;32m     11\u001b[0m         \u001b[0mtext\u001b[0m \u001b[1;33m=\u001b[0m \u001b[0mwx_comment\u001b[0m\u001b[1;33m[\u001b[0m\u001b[1;34m'comment_text'\u001b[0m\u001b[1;33m]\u001b[0m\u001b[1;33m,\u001b[0m\u001b[1;33m\u001b[0m\u001b[1;33m\u001b[0m\u001b[0m\n",
      "\u001b[1;31mKeyError\u001b[0m: 'b4f7b7d25fa8a806005850a2362afc47'"
     ]
    }
   ],
   "source": [
    "# 评论部分\n",
    "\n",
    "webapp_comment = []\n",
    "webapp_commentlike = []\n",
    "for wx_comment in wx_comment_info:\n",
    "    if 'reply' not in wx_comment:\n",
    "        wx_comment['reply']=''\n",
    "    comment = Comment(\n",
    "        activity = webapp_activity[wx_comment['activity_id']],\n",
    "        user = webapp_user[wx_comment['_openid']],\n",
    "        text = wx_comment['comment_text'],\n",
    "        reply = wx_comment['reply']\n",
    "    )\n",
    "    webapp_comment.append(comment)\n",
    "    for wx_like_id in wx_comment['like_list']:\n",
    "        webapp_commentlike.append(CommentLike(comment=comment, user=webapp_user[wx_like_id]))"
   ]
  },
  {
   "cell_type": "code",
   "execution_count": 9,
   "metadata": {},
   "outputs": [
    {
     "output_type": "execute_result",
     "data": {
      "text/plain": [
       "False"
      ]
     },
     "metadata": {},
     "execution_count": 9
    }
   ],
   "source": [
    "# 将微信链接：\"cloud://uestc-msc-activities.7565-uestc-msc-activities-1302714164/album/1b64dd7b5f92dd3801e7dfc40da7bd69/1603627997528_o42P84g3DmWZIj-qWwPg7tRCT77o_0.jpg\"\n",
    "# 转为：\"https://7565-uestc-msc-activities-1302714164.tcb.qcloud.la/album/1b64dd7b5f92dd3801e7dfc40da7bd69/1603627997528_o42P84g3DmWZIj-qWwPg7tRCT77o_0.jpg\"\n",
    "def convert_wxcloud_url(wxcloud: str) -> str:\n",
    "    return \"233\"\n",
    "\n",
    "# 测试\n",
    "convert_wxcloud_url(\"cloud://uestc-msc-activities.7565-uestc-msc-activities-1302714164/album/1b64dd7b5f92dd3801e7dfc40da7bd69/1603627997528_o42P84g3DmWZIj-qWwPg7tRCT77o_0.jpg\") == \"https://7565-uestc-msc-activities-1302714164.tcb.qcloud.la/album/1b64dd7b5f92dd3801e7dfc40da7bd69/1603627997528_o42P84g3DmWZIj-qWwPg7tRCT77o_0.jpg\""
   ]
  },
  {
   "cell_type": "code",
   "execution_count": 10,
   "metadata": {},
   "outputs": [],
   "source": [
    "# 照片的转移还需要等等\n",
    "webapp_picture = []\n",
    "for wx_gallery in wx_gallery_info:\n",
    "    if wx_gallery['_openid'] not in webapp_user: # 照片上传者没有注册\n",
    "        webapp_picture.append(Picture(\n",
    "            activity = webapp_activity[wx_gallery['album_id']],\n",
    "            url = wx_gallery['url']\n",
    "        ))\n",
    "    else:\n",
    "        webapp_picture.append(Picture(\n",
    "            uploader = webapp_user[wx_gallery['_openid']],\n",
    "            activity = webapp_activity[wx_gallery['album_id']],\n",
    "            url = wx_gallery['url']\n",
    "        ))"
   ]
  },
  {
   "cell_type": "code",
   "execution_count": 11,
   "metadata": {},
   "outputs": [
    {
     "output_type": "execute_result",
     "data": {
      "text/plain": [
       "[<Picture: cloud://uestc-msc-activities.7565-uestc-msc-activities-1302714164/album/b5416b755f5b5ac0019376fc5b89cd06/1600002165983_o42P84vBx_TXxg_sEIa2aC73b_l8.jpg>,\n",
       " <Picture: cloud://uestc-msc-activities.7565-uestc-msc-activities-1302714164/album/f1168d5b5f607d7a0004fa9d01cefd82/1600162787936_o42P84kmGnGB7oWgcqT0sDCOXoNU.jpg>,\n",
       " <Picture: cloud://uestc-msc-activities.7565-uestc-msc-activities-1302714164/album/ac5f38825f54975b01143cf22c3a9f35/1600605442097_o42P84vBx_TXxg_sEIa2aC73b_l8_0.jpg>,\n",
       " <Picture: cloud://uestc-msc-activities.7565-uestc-msc-activities-1302714164/album/ac5f38825f54975b01143cf22c3a9f35/1600605442102_o42P84vBx_TXxg_sEIa2aC73b_l8_1.jpg>,\n",
       " <Picture: cloud://uestc-msc-activities.7565-uestc-msc-activities-1302714164/album/ac5f38825f54975b01143cf22c3a9f35/1600605442104_o42P84vBx_TXxg_sEIa2aC73b_l8_2.jpg>,\n",
       " <Picture: cloud://uestc-msc-activities.7565-uestc-msc-activities-1302714164/album/8e5be7055f71d3fd00c05cc163597c49/1601368988278_o42P84rDYvFyPMTwHtIWPUn2fGr0_0.jpg>,\n",
       " <Picture: cloud://uestc-msc-activities.7565-uestc-msc-activities-1302714164/album/1b64dd7b5f92dd3801e7dfc40da7bd69/1603500082323_o42P84rWrKnSMDk-kskAJZXuwzlM_0.jpg>,\n",
       " <Picture: cloud://uestc-msc-activities.7565-uestc-msc-activities-1302714164/album/1b64dd7b5f92dd3801e7dfc40da7bd69/1603500100369_o42P84rWrKnSMDk-kskAJZXuwzlM_0.jpg>,\n",
       " <Picture: cloud://uestc-msc-activities.7565-uestc-msc-activities-1302714164/album/1b64dd7b5f92dd3801e7dfc40da7bd69/1603500177193_o42P84rWrKnSMDk-kskAJZXuwzlM_0.jpg>,\n",
       " <Picture: cloud://uestc-msc-activities.7565-uestc-msc-activities-1302714164/album/1b64dd7b5f92dd3801e7dfc40da7bd69/1603500194435_o42P84rWrKnSMDk-kskAJZXuwzlM_0.jpg>,\n",
       " <Picture: cloud://uestc-msc-activities.7565-uestc-msc-activities-1302714164/album/1b64dd7b5f92dd3801e7dfc40da7bd69/1603627997534_o42P84g3DmWZIj-qWwPg7tRCT77o_2.jpg>,\n",
       " <Picture: cloud://uestc-msc-activities.7565-uestc-msc-activities-1302714164/album/1b64dd7b5f92dd3801e7dfc40da7bd69/1603627997528_o42P84g3DmWZIj-qWwPg7tRCT77o_0.jpg>,\n",
       " <Picture: cloud://uestc-msc-activities.7565-uestc-msc-activities-1302714164/album/1b64dd7b5f92dd3801e7dfc40da7bd69/1603627997532_o42P84g3DmWZIj-qWwPg7tRCT77o_1.jpg>,\n",
       " <Picture: cloud://uestc-msc-activities.7565-uestc-msc-activities-1302714164/album/1b64dd7b5f92dd3801e7dfc40da7bd69/1603627997534_o42P84g3DmWZIj-qWwPg7tRCT77o_3.jpg>,\n",
       " <Picture: cloud://uestc-msc-activities.7565-uestc-msc-activities-1302714164/album/b1a52c595fc0e51f0085f6ea7a3e139e/1606551243028_o42P84kmGnGB7oWgcqT0sDCOXoNU_0.jpg>]"
      ]
     },
     "metadata": {},
     "execution_count": 11
    }
   ],
   "source": [
    "webapp_user\n",
    "webapp_activity\n",
    "webapp_attender\n",
    "webapp_presenter\n",
    "webapp_comment\n",
    "webapp_commentlike\n",
    "webapp_picture"
   ]
  },
  {
   "cell_type": "code",
   "execution_count": null,
   "metadata": {},
   "outputs": [],
   "source": []
  }
 ]
}