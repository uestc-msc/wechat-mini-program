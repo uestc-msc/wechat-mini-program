{
 "cells": [
  {
   "cell_type": "markdown",
   "metadata": {},
   "source": [
    "本转换脚本适用于微信小程序 **v1.3.2**、Web App 后端 **v0.2.0**\n",
    "\n",
    "**本脚本会抹除后端数据库中所有数据！！！！！！**如需要，请提前做好备份！！！"
   ]
  },
  {
   "cell_type": "markdown",
   "metadata": {},
   "source": [
    "1. 首先需要将微信小程序云数据库的 `activity_info`、`album_info`、`comment_info` 和 `user_info` 表分别导出为 `activity_info.json`、`album_info.json`、`comment_info.json` 和 `user_info.json`，放在该 Jupyter Notebook 的同一目录。\n",
    "2. 请提前做好对 `user_info.json` 的数据清洗。（可使用 `//` 注释错误的信息）\n",
    "3. 如需迁移图片，还需要对 Django Server 进行交互，所以请提前在 localhost:8000 运行 Django Server"
   ]
  },
  {
   "cell_type": "code",
   "execution_count": 1,
   "metadata": {},
   "outputs": [],
   "source": [
    "# 设置 superuser 的信息，请及时修改\n",
    "superuser_name = '刘俨晖'\n",
    "superuser_email = 'lyh543@outlook.com'\n",
    "superuser_password = 'superuser'\n",
    "\n",
    "baseUrl = 'http://localhost:8000/api'"
   ]
  },
  {
   "cell_type": "code",
   "execution_count": 2,
   "metadata": {},
   "outputs": [],
   "source": [
    "import os\n",
    "# 设置 Django 项目的路径\n",
    "DJANGO_PROJECT_PATH = r\"C:\\Tools\\Git\\uestcmsc-webapp\\uestcmsc_webapp_backend\"\n",
    "# 备份当前路径\n",
    "try:\n",
    "    os.chdir(WX_DATA_PATH)\n",
    "except NameError:\n",
    "    WX_DATA_PATH = os.path.abspath('.')"
   ]
  },
  {
   "cell_type": "code",
   "execution_count": 3,
   "metadata": {},
   "outputs": [],
   "source": [
    "import json\n",
    "def read_wx_json(filename: str) -> list[dict]: \n",
    "    li = []\n",
    "    with open(filename, encoding='utf-8') as f:\n",
    "        for line in f:\n",
    "            if not line.startswith('//'):   # 支持注释\n",
    "                li.append(json.loads(line))\n",
    "    return li\n",
    "\n",
    "wx_activity_info = read_wx_json('activity_info.json')\n",
    "wx_gallery_info = read_wx_json('album_info.json')\n",
    "# wx_comment_info = read_wx_json('comment_info.json')\n",
    "wx_user_info = read_wx_json('user_info.json')"
   ]
  },
  {
   "cell_type": "code",
   "execution_count": 4,
   "metadata": {},
   "outputs": [],
   "source": [
    "# 配置 Django\n",
    "import django\n",
    "os.chdir(DJANGO_PROJECT_PATH)\n",
    "os.environ[\"DJANGO_SETTINGS_MODULE\"]=\"uestcmsc_webapp_backend.settings\"\n",
    "os.environ[\"DJANGO_ALLOW_ASYNC_UNSAFE\"] = \"true\"\n",
    "django.setup()"
   ]
  },
  {
   "cell_type": "code",
   "execution_count": 5,
   "metadata": {},
   "outputs": [],
   "source": [
    "from users.models import User, UserProfile\n",
    "from activities.models import Activity\n",
    "from activities_photos.models import ActivityPhoto\n",
    "from activities_files.models import ActivityFile, ActivityFolder\n",
    "from activities_links.models import ActivityLink\n",
    "\n",
    "from cloud.onedrive import onedrive_activity_directory"
   ]
  },
  {
   "cell_type": "code",
   "execution_count": 6,
   "metadata": {},
   "outputs": [],
   "source": [
    "from datetime import date, time, datetime\n",
    "def str2date(string: str) -> date:\n",
    "    return datetime.strptime(string, '%Y-%m-%d').date()\n",
    "def str2time(string: str) -> time:\n",
    "    return datetime.strptime(string, '%H:%M').time()\n",
    "def str2datetime(string_date: str, string_time: str) -> datetime:\n",
    "    return datetime.combine(str2date(string_date), str2time(string_time))"
   ]
  },
  {
   "cell_type": "code",
   "execution_count": 7,
   "metadata": {
    "tags": []
   },
   "outputs": [],
   "source": [
    "# 用户部分\n",
    "# 本脚本会抹除后端数据库中所有数据！！！\n",
    "import warnings\n",
    "warnings.filterwarnings('ignore')\n",
    "\n",
    "User.objects.all().delete()\n",
    "webapp_user = dict()\n",
    "\n",
    "for wx_user in wx_user_info:\n",
    "    u = User(username=wx_user['_id'],\n",
    "             is_staff=wx_user['is_admin'],\n",
    "             first_name=wx_user['username'],\n",
    "             is_superuser=wx_user['can_grant_admin'],\n",
    "             date_joined=str2date(wx_user['register_date']))\n",
    "    u.save()\n",
    "    up = UserProfile(user=u,\n",
    "                     student_id=wx_user['student_id'],\n",
    "                     experience=wx_user['exp'])\n",
    "    up.save()\n",
    "    webapp_user[wx_user['_id']] = u"
   ]
  },
  {
   "cell_type": "code",
   "execution_count": 8,
   "metadata": {},
   "outputs": [],
   "source": [
    "# 设置 superuser 的信息\n",
    "from hashlib import md5\n",
    "superuser = User.objects.filter(first_name=superuser_name)[0]\n",
    "superuser.username = superuser_email\n",
    "superuser.is_superuser = True\n",
    "superuser.is_staff = True\n",
    "md5_password = md5(superuser_password.encode()).hexdigest()\n",
    "superuser.set_password(md5_password)\n",
    "superuser.save()"
   ]
  },
  {
   "cell_type": "code",
   "execution_count": 9,
   "metadata": {},
   "outputs": [],
   "source": [
    "# 活动部分\n",
    "# 本脚本会抹除后端数据库中所有数据！！！\n",
    "Activity.objects.all().delete()\n",
    "webapp_activity = dict()\n",
    "\n",
    "for wx_activity in wx_activity_info:\n",
    "    if wx_activity['is_hidden']:\n",
    "        continue\n",
    "    activity = Activity(datetime = str2datetime(wx_activity['date'], wx_activity['time']),\n",
    "                        location = wx_activity['location'],\n",
    "                        title = wx_activity['title'],)\n",
    "    activity.save()\n",
    "    webapp_activity[wx_activity['_id']] = activity\n",
    "\n",
    "    for wx_presenter_id in wx_activity['presenter_list']:\n",
    "        activity.presenter.add(webapp_user[wx_presenter_id])\n",
    "    for wx_attender_id in wx_activity['check_in_list']:\n",
    "        if wx_attender_id in webapp_user: # 可能有用户参加了活动，但没有绑定信息，只能忽略掉此次签到\n",
    "            activity.attender.add(webapp_user[wx_attender_id])"
   ]
  },
  {
   "cell_type": "code",
   "execution_count": 10,
   "metadata": {},
   "outputs": [],
   "source": [
    "# 将微信链接：\"cloud://uestc-msc-activities.7565-uestc-msc-activities-1302714164/album/1b64dd7b5f92dd3801e7dfc40da7bd69/1603627997528_o42P84g3DmWZIj-qWwPg7tRCT77o_0.jpg\"\n",
    "# 转为：\"https://7565-uestc-msc-activities-1302714164.tcb.qcloud.la/album/1b64dd7b5f92dd3801e7dfc40da7bd69/1603627997528_o42P84g3DmWZIj-qWwPg7tRCT77o_0.jpg\"\n",
    "def convert_wxcloud_url(wxcloud_url: str) -> str:\n",
    "    eTLD = '.tcb.qcloud.la' # 可能需要根据自己的配置进行修改\n",
    "    domain_path = wxcloud_url[8 :]\n",
    "\n",
    "    first_slash = domain_path.find('/')\n",
    "    domain = domain_path[0 : first_slash]\n",
    "    path = domain_path[first_slash:]\n",
    "\n",
    "    domain_without_appname = domain[domain.find('.')+1 :]\n",
    "    url = f'https://{domain_without_appname}{eTLD}{path}'\n",
    "    return url\n",
    "\n",
    "# 测试，无输出即正确\n",
    "assert convert_wxcloud_url(\"cloud://uestc-msc-activities.7565-uestc-msc-activities-1302714164/album/1b64dd7b5f92dd3801e7dfc40da7bd69/1603500082323_o42P84rWrKnSMDk-kskAJZXuwzlM_0.jpg\") == \"https://7565-uestc-msc-activities-1302714164.tcb.qcloud.la/album/1b64dd7b5f92dd3801e7dfc40da7bd69/1603500082323_o42P84rWrKnSMDk-kskAJZXuwzlM_0.jpg\"\n",
    "assert convert_wxcloud_url(\"cloud://uestc-msc-activities.7565-uestc-msc-activities-1302714164/album/1b64dd7b5f92dd3801e7dfc40da7bd69/1603627997528_o42P84g3DmWZIj-qWwPg7tRCT77o_0.jpg\") == \"https://7565-uestc-msc-activities-1302714164.tcb.qcloud.la/album/1b64dd7b5f92dd3801e7dfc40da7bd69/1603627997528_o42P84g3DmWZIj-qWwPg7tRCT77o_0.jpg\""
   ]
  },
  {
   "cell_type": "code",
   "execution_count": 11,
   "metadata": {},
   "outputs": [
    {
     "output_type": "stream",
     "name": "stdout",
     "text": [
      "下载 1 / 26\n",
      "下载 2 / 26\n",
      "下载 3 / 26\n",
      "下载 4 / 26\n",
      "下载 5 / 26\n",
      "下载 6 / 26\n",
      "下载 7 / 26\n",
      "下载 8 / 26\n",
      "下载 9 / 26\n",
      "下载 10 / 26\n",
      "下载 11 / 26\n",
      "下载 12 / 26\n",
      "下载 13 / 26\n",
      "下载 14 / 26\n",
      "下载 15 / 26\n",
      "下载 16 / 26\n",
      "下载 17 / 26\n",
      "下载 18 / 26\n",
      "下载 19 / 26\n",
      "下载 20 / 26\n",
      "下载 21 / 26\n",
      "下载 22 / 26\n",
      "下载 23 / 26\n",
      "下载 24 / 26\n",
      "下载 25 / 26\n",
      "下载 26 / 26\n"
     ]
    }
   ],
   "source": [
    "import requests\n",
    "# 提前下载所有照片\n",
    "# 就存在内存里，不会有人内存存不下吧 不会吧不会吧\n",
    "for index, photo in enumerate(wx_gallery_info):\n",
    "    print(f'下载 {index+1} / {len(wx_gallery_info)}')\n",
    "    if 'content' in photo:\n",
    "        continue\n",
    "    url = convert_wxcloud_url(photo['url'])\n",
    "    response = requests.get(url)\n",
    "    assert response.ok\n",
    "    photo['content'] = response.content"
   ]
  },
  {
   "cell_type": "code",
   "execution_count": 12,
   "metadata": {},
   "outputs": [],
   "source": [
    "# 先把云盘的活动数据 rm -rf 了嗷\n",
    "# 本脚本会抹除后端数据库中所有数据！！！\n",
    "response = onedrive_activity_directory.delete(fail_silently=True)\n",
    "if response.status_code not in [204, 404]:\n",
    "    raise Exception"
   ]
  },
  {
   "cell_type": "code",
   "execution_count": 13,
   "metadata": {},
   "outputs": [
    {
     "output_type": "execute_result",
     "data": {
      "text/plain": [
       "(0, {})"
      ]
     },
     "metadata": {},
     "execution_count": 13
    }
   ],
   "source": [
    "ActivityFile.objects.all().delete()\n",
    "ActivityPhoto.objects.all().delete()\n",
    "ActivityFolder.objects.all().delete()"
   ]
  },
  {
   "cell_type": "code",
   "execution_count": 14,
   "metadata": {},
   "outputs": [],
   "source": [
    "# 上号！\n",
    "session = requests.Session()\n",
    "response = session.post(baseUrl + '/accounts/login/', {'username': superuser_email, 'password': md5_password})\n",
    "assert response.ok\n",
    "session.headers['X-CSRFToken'] = session.cookies['csrftoken']"
   ]
  },
  {
   "cell_type": "code",
   "execution_count": 15,
   "metadata": {},
   "outputs": [],
   "source": [
    "def upload_picture(file_data: bytes, activity_id: int, filename=\"俱乐部早期珍贵影像.jpg\") -> str:\n",
    "    # 创建上传会话\n",
    "    response = session.post(baseUrl + '/cloud/file/', {\"filename\": filename})\n",
    "    assert response.ok\n",
    "    content = eval(response.content)\n",
    "    if type(content) is str:    # 有时候是 dict 有时候是 str 我也不知道为什么会这样\n",
    "        content = eval(content)\n",
    "    else:\n",
    "        print('content is dict')\n",
    "    assert type(content) == dict\n",
    "    upload_url = content['uploadUrl']\n",
    "    # 上传文件\n",
    "    file_length = len(file_data)\n",
    "    assert file_length <= 60 * (2 ** 20), \"上传文件应当需要小于 60 MiB\"\n",
    "    headers = {\"Content-Range\": f\"bytes 0-{file_length - 1}/{file_length}\"}\n",
    "    response = requests.put(upload_url, data=file_data, headers=headers)\n",
    "    assert response.ok\n",
    "    file_id = response.json()['id']\n",
    "    # 写入数据库\n",
    "    response = session.post(baseUrl + '/activities/photo/', { \"file_id\": file_id, \"activity_id\": activity_id })\n",
    "    assert response.ok\n",
    "    return file_id"
   ]
  },
  {
   "cell_type": "code",
   "execution_count": 16,
   "metadata": {},
   "outputs": [],
   "source": [
    "# 照片部分，使用 requests 以 superuser 的身份访问 Django Server 完成上传\n",
    "i = 0\n",
    "webapp_photo = dict()"
   ]
  },
  {
   "cell_type": "code",
   "execution_count": 21,
   "metadata": {},
   "outputs": [
    {
     "output_type": "stream",
     "name": "stdout",
     "text": [
      "尝试上传第 1 张图片...成功\n",
      "尝试上传第 2 张图片...活动不存在，跳过\n",
      "尝试上传第 3 张图片...成功\n",
      "尝试上传第 4 张图片...成功\n",
      "尝试上传第 5 张图片..."
     ]
    },
    {
     "output_type": "error",
     "ename": "KeyboardInterrupt",
     "evalue": "",
     "traceback": [
      "\u001b[1;31m---------------------------------------------------------------------------\u001b[0m",
      "\u001b[1;31mKeyboardInterrupt\u001b[0m                         Traceback (most recent call last)",
      "\u001b[1;32m<ipython-input-21-fb4bb9f8d494>\u001b[0m in \u001b[0;36m<module>\u001b[1;34m\u001b[0m\n\u001b[0;32m     10\u001b[0m     \u001b[1;32mfor\u001b[0m \u001b[0mretry\u001b[0m \u001b[1;32min\u001b[0m \u001b[0mrange\u001b[0m\u001b[1;33m(\u001b[0m\u001b[1;36m5\u001b[0m\u001b[1;33m)\u001b[0m\u001b[1;33m:\u001b[0m\u001b[1;33m\u001b[0m\u001b[1;33m\u001b[0m\u001b[0m\n\u001b[0;32m     11\u001b[0m         \u001b[1;32mtry\u001b[0m\u001b[1;33m:\u001b[0m\u001b[1;33m\u001b[0m\u001b[1;33m\u001b[0m\u001b[0m\n\u001b[1;32m---> 12\u001b[1;33m             \u001b[0mphoto_id\u001b[0m \u001b[1;33m=\u001b[0m \u001b[0mupload_picture\u001b[0m\u001b[1;33m(\u001b[0m\u001b[0mphoto\u001b[0m\u001b[1;33m[\u001b[0m\u001b[1;34m'content'\u001b[0m\u001b[1;33m]\u001b[0m\u001b[1;33m,\u001b[0m \u001b[0mactivity_id\u001b[0m\u001b[1;33m)\u001b[0m\u001b[1;33m\u001b[0m\u001b[1;33m\u001b[0m\u001b[0m\n\u001b[0m\u001b[0;32m     13\u001b[0m             \u001b[0mwebapp_photo\u001b[0m\u001b[1;33m[\u001b[0m\u001b[0mphoto\u001b[0m\u001b[1;33m[\u001b[0m\u001b[1;34m'_id'\u001b[0m\u001b[1;33m]\u001b[0m\u001b[1;33m]\u001b[0m \u001b[1;33m=\u001b[0m \u001b[0mActivityPhoto\u001b[0m\u001b[1;33m.\u001b[0m\u001b[0mobjects\u001b[0m\u001b[1;33m.\u001b[0m\u001b[0mget\u001b[0m\u001b[1;33m(\u001b[0m\u001b[0mid\u001b[0m\u001b[1;33m=\u001b[0m\u001b[0mphoto_id\u001b[0m\u001b[1;33m)\u001b[0m\u001b[1;33m\u001b[0m\u001b[1;33m\u001b[0m\u001b[0m\n\u001b[0;32m     14\u001b[0m             \u001b[0mu\u001b[0m \u001b[1;33m=\u001b[0m \u001b[0mwebapp_user\u001b[0m\u001b[1;33m[\u001b[0m\u001b[0mphoto\u001b[0m\u001b[1;33m[\u001b[0m\u001b[1;34m'_openid'\u001b[0m\u001b[1;33m]\u001b[0m\u001b[1;33m]\u001b[0m \u001b[1;32mif\u001b[0m \u001b[0mphoto\u001b[0m\u001b[1;33m[\u001b[0m\u001b[1;34m'_openid'\u001b[0m\u001b[1;33m]\u001b[0m \u001b[1;32min\u001b[0m \u001b[0mwebapp_user\u001b[0m \u001b[1;32melse\u001b[0m \u001b[1;32mNone\u001b[0m\u001b[1;33m\u001b[0m\u001b[1;33m\u001b[0m\u001b[0m\n",
      "\u001b[1;32m<ipython-input-15-738c0f702e5d>\u001b[0m in \u001b[0;36mupload_picture\u001b[1;34m(file_data, activity_id, filename)\u001b[0m\n\u001b[0;32m     18\u001b[0m     \u001b[0mfile_id\u001b[0m \u001b[1;33m=\u001b[0m \u001b[0mresponse\u001b[0m\u001b[1;33m.\u001b[0m\u001b[0mjson\u001b[0m\u001b[1;33m(\u001b[0m\u001b[1;33m)\u001b[0m\u001b[1;33m[\u001b[0m\u001b[1;34m'id'\u001b[0m\u001b[1;33m]\u001b[0m\u001b[1;33m\u001b[0m\u001b[1;33m\u001b[0m\u001b[0m\n\u001b[0;32m     19\u001b[0m     \u001b[1;31m# 写入数据库\u001b[0m\u001b[1;33m\u001b[0m\u001b[1;33m\u001b[0m\u001b[1;33m\u001b[0m\u001b[0m\n\u001b[1;32m---> 20\u001b[1;33m     \u001b[0mresponse\u001b[0m \u001b[1;33m=\u001b[0m \u001b[0msession\u001b[0m\u001b[1;33m.\u001b[0m\u001b[0mpost\u001b[0m\u001b[1;33m(\u001b[0m\u001b[0mbaseUrl\u001b[0m \u001b[1;33m+\u001b[0m \u001b[1;34m'/activities/photo/'\u001b[0m\u001b[1;33m,\u001b[0m \u001b[1;33m{\u001b[0m \u001b[1;34m\"file_id\"\u001b[0m\u001b[1;33m:\u001b[0m \u001b[0mfile_id\u001b[0m\u001b[1;33m,\u001b[0m \u001b[1;34m\"activity_id\"\u001b[0m\u001b[1;33m:\u001b[0m \u001b[0mactivity_id\u001b[0m \u001b[1;33m}\u001b[0m\u001b[1;33m)\u001b[0m\u001b[1;33m\u001b[0m\u001b[1;33m\u001b[0m\u001b[0m\n\u001b[0m\u001b[0;32m     21\u001b[0m     \u001b[1;32massert\u001b[0m \u001b[0mresponse\u001b[0m\u001b[1;33m.\u001b[0m\u001b[0mok\u001b[0m\u001b[1;33m\u001b[0m\u001b[1;33m\u001b[0m\u001b[0m\n\u001b[0;32m     22\u001b[0m     \u001b[1;32mreturn\u001b[0m \u001b[0mfile_id\u001b[0m\u001b[1;33m\u001b[0m\u001b[1;33m\u001b[0m\u001b[0m\n",
      "\u001b[1;32mC:\\Tools\\Python\\lib\\site-packages\\requests\\sessions.py\u001b[0m in \u001b[0;36mpost\u001b[1;34m(self, url, data, json, **kwargs)\u001b[0m\n\u001b[0;32m    588\u001b[0m         \"\"\"\n\u001b[0;32m    589\u001b[0m \u001b[1;33m\u001b[0m\u001b[0m\n\u001b[1;32m--> 590\u001b[1;33m         \u001b[1;32mreturn\u001b[0m \u001b[0mself\u001b[0m\u001b[1;33m.\u001b[0m\u001b[0mrequest\u001b[0m\u001b[1;33m(\u001b[0m\u001b[1;34m'POST'\u001b[0m\u001b[1;33m,\u001b[0m \u001b[0murl\u001b[0m\u001b[1;33m,\u001b[0m \u001b[0mdata\u001b[0m\u001b[1;33m=\u001b[0m\u001b[0mdata\u001b[0m\u001b[1;33m,\u001b[0m \u001b[0mjson\u001b[0m\u001b[1;33m=\u001b[0m\u001b[0mjson\u001b[0m\u001b[1;33m,\u001b[0m \u001b[1;33m**\u001b[0m\u001b[0mkwargs\u001b[0m\u001b[1;33m)\u001b[0m\u001b[1;33m\u001b[0m\u001b[1;33m\u001b[0m\u001b[0m\n\u001b[0m\u001b[0;32m    591\u001b[0m \u001b[1;33m\u001b[0m\u001b[0m\n\u001b[0;32m    592\u001b[0m     \u001b[1;32mdef\u001b[0m \u001b[0mput\u001b[0m\u001b[1;33m(\u001b[0m\u001b[0mself\u001b[0m\u001b[1;33m,\u001b[0m \u001b[0murl\u001b[0m\u001b[1;33m,\u001b[0m \u001b[0mdata\u001b[0m\u001b[1;33m=\u001b[0m\u001b[1;32mNone\u001b[0m\u001b[1;33m,\u001b[0m \u001b[1;33m**\u001b[0m\u001b[0mkwargs\u001b[0m\u001b[1;33m)\u001b[0m\u001b[1;33m:\u001b[0m\u001b[1;33m\u001b[0m\u001b[1;33m\u001b[0m\u001b[0m\n",
      "\u001b[1;32mC:\\Tools\\Python\\lib\\site-packages\\requests\\sessions.py\u001b[0m in \u001b[0;36mrequest\u001b[1;34m(self, method, url, params, data, headers, cookies, files, auth, timeout, allow_redirects, proxies, hooks, stream, verify, cert, json)\u001b[0m\n\u001b[0;32m    540\u001b[0m         }\n\u001b[0;32m    541\u001b[0m         \u001b[0msend_kwargs\u001b[0m\u001b[1;33m.\u001b[0m\u001b[0mupdate\u001b[0m\u001b[1;33m(\u001b[0m\u001b[0msettings\u001b[0m\u001b[1;33m)\u001b[0m\u001b[1;33m\u001b[0m\u001b[1;33m\u001b[0m\u001b[0m\n\u001b[1;32m--> 542\u001b[1;33m         \u001b[0mresp\u001b[0m \u001b[1;33m=\u001b[0m \u001b[0mself\u001b[0m\u001b[1;33m.\u001b[0m\u001b[0msend\u001b[0m\u001b[1;33m(\u001b[0m\u001b[0mprep\u001b[0m\u001b[1;33m,\u001b[0m \u001b[1;33m**\u001b[0m\u001b[0msend_kwargs\u001b[0m\u001b[1;33m)\u001b[0m\u001b[1;33m\u001b[0m\u001b[1;33m\u001b[0m\u001b[0m\n\u001b[0m\u001b[0;32m    543\u001b[0m \u001b[1;33m\u001b[0m\u001b[0m\n\u001b[0;32m    544\u001b[0m         \u001b[1;32mreturn\u001b[0m \u001b[0mresp\u001b[0m\u001b[1;33m\u001b[0m\u001b[1;33m\u001b[0m\u001b[0m\n",
      "\u001b[1;32mC:\\Tools\\Python\\lib\\site-packages\\requests\\sessions.py\u001b[0m in \u001b[0;36msend\u001b[1;34m(self, request, **kwargs)\u001b[0m\n\u001b[0;32m    653\u001b[0m \u001b[1;33m\u001b[0m\u001b[0m\n\u001b[0;32m    654\u001b[0m         \u001b[1;31m# Send the request\u001b[0m\u001b[1;33m\u001b[0m\u001b[1;33m\u001b[0m\u001b[1;33m\u001b[0m\u001b[0m\n\u001b[1;32m--> 655\u001b[1;33m         \u001b[0mr\u001b[0m \u001b[1;33m=\u001b[0m \u001b[0madapter\u001b[0m\u001b[1;33m.\u001b[0m\u001b[0msend\u001b[0m\u001b[1;33m(\u001b[0m\u001b[0mrequest\u001b[0m\u001b[1;33m,\u001b[0m \u001b[1;33m**\u001b[0m\u001b[0mkwargs\u001b[0m\u001b[1;33m)\u001b[0m\u001b[1;33m\u001b[0m\u001b[1;33m\u001b[0m\u001b[0m\n\u001b[0m\u001b[0;32m    656\u001b[0m \u001b[1;33m\u001b[0m\u001b[0m\n\u001b[0;32m    657\u001b[0m         \u001b[1;31m# Total elapsed time of the request (approximately)\u001b[0m\u001b[1;33m\u001b[0m\u001b[1;33m\u001b[0m\u001b[1;33m\u001b[0m\u001b[0m\n",
      "\u001b[1;32mC:\\Tools\\Python\\lib\\site-packages\\requests\\adapters.py\u001b[0m in \u001b[0;36msend\u001b[1;34m(self, request, stream, timeout, verify, cert, proxies)\u001b[0m\n\u001b[0;32m    437\u001b[0m         \u001b[1;32mtry\u001b[0m\u001b[1;33m:\u001b[0m\u001b[1;33m\u001b[0m\u001b[1;33m\u001b[0m\u001b[0m\n\u001b[0;32m    438\u001b[0m             \u001b[1;32mif\u001b[0m \u001b[1;32mnot\u001b[0m \u001b[0mchunked\u001b[0m\u001b[1;33m:\u001b[0m\u001b[1;33m\u001b[0m\u001b[1;33m\u001b[0m\u001b[0m\n\u001b[1;32m--> 439\u001b[1;33m                 resp = conn.urlopen(\n\u001b[0m\u001b[0;32m    440\u001b[0m                     \u001b[0mmethod\u001b[0m\u001b[1;33m=\u001b[0m\u001b[0mrequest\u001b[0m\u001b[1;33m.\u001b[0m\u001b[0mmethod\u001b[0m\u001b[1;33m,\u001b[0m\u001b[1;33m\u001b[0m\u001b[1;33m\u001b[0m\u001b[0m\n\u001b[0;32m    441\u001b[0m                     \u001b[0murl\u001b[0m\u001b[1;33m=\u001b[0m\u001b[0murl\u001b[0m\u001b[1;33m,\u001b[0m\u001b[1;33m\u001b[0m\u001b[1;33m\u001b[0m\u001b[0m\n",
      "\u001b[1;32mC:\\Tools\\Python\\lib\\site-packages\\urllib3\\connectionpool.py\u001b[0m in \u001b[0;36murlopen\u001b[1;34m(self, method, url, body, headers, retries, redirect, assert_same_host, timeout, pool_timeout, release_conn, chunked, body_pos, **response_kw)\u001b[0m\n\u001b[0;32m    668\u001b[0m \u001b[1;33m\u001b[0m\u001b[0m\n\u001b[0;32m    669\u001b[0m             \u001b[1;31m# Make the request on the httplib connection object.\u001b[0m\u001b[1;33m\u001b[0m\u001b[1;33m\u001b[0m\u001b[1;33m\u001b[0m\u001b[0m\n\u001b[1;32m--> 670\u001b[1;33m             httplib_response = self._make_request(\n\u001b[0m\u001b[0;32m    671\u001b[0m                 \u001b[0mconn\u001b[0m\u001b[1;33m,\u001b[0m\u001b[1;33m\u001b[0m\u001b[1;33m\u001b[0m\u001b[0m\n\u001b[0;32m    672\u001b[0m                 \u001b[0mmethod\u001b[0m\u001b[1;33m,\u001b[0m\u001b[1;33m\u001b[0m\u001b[1;33m\u001b[0m\u001b[0m\n",
      "\u001b[1;32mC:\\Tools\\Python\\lib\\site-packages\\urllib3\\connectionpool.py\u001b[0m in \u001b[0;36m_make_request\u001b[1;34m(self, conn, method, url, timeout, chunked, **httplib_request_kw)\u001b[0m\n\u001b[0;32m    424\u001b[0m                     \u001b[1;31m# Python 3 (including for exceptions like SystemExit).\u001b[0m\u001b[1;33m\u001b[0m\u001b[1;33m\u001b[0m\u001b[1;33m\u001b[0m\u001b[0m\n\u001b[0;32m    425\u001b[0m                     \u001b[1;31m# Otherwise it looks like a bug in the code.\u001b[0m\u001b[1;33m\u001b[0m\u001b[1;33m\u001b[0m\u001b[1;33m\u001b[0m\u001b[0m\n\u001b[1;32m--> 426\u001b[1;33m                     \u001b[0msix\u001b[0m\u001b[1;33m.\u001b[0m\u001b[0mraise_from\u001b[0m\u001b[1;33m(\u001b[0m\u001b[0me\u001b[0m\u001b[1;33m,\u001b[0m \u001b[1;32mNone\u001b[0m\u001b[1;33m)\u001b[0m\u001b[1;33m\u001b[0m\u001b[1;33m\u001b[0m\u001b[0m\n\u001b[0m\u001b[0;32m    427\u001b[0m         \u001b[1;32mexcept\u001b[0m \u001b[1;33m(\u001b[0m\u001b[0mSocketTimeout\u001b[0m\u001b[1;33m,\u001b[0m \u001b[0mBaseSSLError\u001b[0m\u001b[1;33m,\u001b[0m \u001b[0mSocketError\u001b[0m\u001b[1;33m)\u001b[0m \u001b[1;32mas\u001b[0m \u001b[0me\u001b[0m\u001b[1;33m:\u001b[0m\u001b[1;33m\u001b[0m\u001b[1;33m\u001b[0m\u001b[0m\n\u001b[0;32m    428\u001b[0m             \u001b[0mself\u001b[0m\u001b[1;33m.\u001b[0m\u001b[0m_raise_timeout\u001b[0m\u001b[1;33m(\u001b[0m\u001b[0merr\u001b[0m\u001b[1;33m=\u001b[0m\u001b[0me\u001b[0m\u001b[1;33m,\u001b[0m \u001b[0murl\u001b[0m\u001b[1;33m=\u001b[0m\u001b[0murl\u001b[0m\u001b[1;33m,\u001b[0m \u001b[0mtimeout_value\u001b[0m\u001b[1;33m=\u001b[0m\u001b[0mread_timeout\u001b[0m\u001b[1;33m)\u001b[0m\u001b[1;33m\u001b[0m\u001b[1;33m\u001b[0m\u001b[0m\n",
      "\u001b[1;32mC:\\Tools\\Python\\lib\\site-packages\\urllib3\\packages\\six.py\u001b[0m in \u001b[0;36mraise_from\u001b[1;34m(value, from_value)\u001b[0m\n",
      "\u001b[1;32mC:\\Tools\\Python\\lib\\site-packages\\urllib3\\connectionpool.py\u001b[0m in \u001b[0;36m_make_request\u001b[1;34m(self, conn, method, url, timeout, chunked, **httplib_request_kw)\u001b[0m\n\u001b[0;32m    419\u001b[0m                 \u001b[1;31m# Python 3\u001b[0m\u001b[1;33m\u001b[0m\u001b[1;33m\u001b[0m\u001b[1;33m\u001b[0m\u001b[0m\n\u001b[0;32m    420\u001b[0m                 \u001b[1;32mtry\u001b[0m\u001b[1;33m:\u001b[0m\u001b[1;33m\u001b[0m\u001b[1;33m\u001b[0m\u001b[0m\n\u001b[1;32m--> 421\u001b[1;33m                     \u001b[0mhttplib_response\u001b[0m \u001b[1;33m=\u001b[0m \u001b[0mconn\u001b[0m\u001b[1;33m.\u001b[0m\u001b[0mgetresponse\u001b[0m\u001b[1;33m(\u001b[0m\u001b[1;33m)\u001b[0m\u001b[1;33m\u001b[0m\u001b[1;33m\u001b[0m\u001b[0m\n\u001b[0m\u001b[0;32m    422\u001b[0m                 \u001b[1;32mexcept\u001b[0m \u001b[0mBaseException\u001b[0m \u001b[1;32mas\u001b[0m \u001b[0me\u001b[0m\u001b[1;33m:\u001b[0m\u001b[1;33m\u001b[0m\u001b[1;33m\u001b[0m\u001b[0m\n\u001b[0;32m    423\u001b[0m                     \u001b[1;31m# Remove the TypeError from the exception chain in\u001b[0m\u001b[1;33m\u001b[0m\u001b[1;33m\u001b[0m\u001b[1;33m\u001b[0m\u001b[0m\n",
      "\u001b[1;32mC:\\Tools\\Python\\lib\\http\\client.py\u001b[0m in \u001b[0;36mgetresponse\u001b[1;34m(self)\u001b[0m\n\u001b[0;32m   1345\u001b[0m         \u001b[1;32mtry\u001b[0m\u001b[1;33m:\u001b[0m\u001b[1;33m\u001b[0m\u001b[1;33m\u001b[0m\u001b[0m\n\u001b[0;32m   1346\u001b[0m             \u001b[1;32mtry\u001b[0m\u001b[1;33m:\u001b[0m\u001b[1;33m\u001b[0m\u001b[1;33m\u001b[0m\u001b[0m\n\u001b[1;32m-> 1347\u001b[1;33m                 \u001b[0mresponse\u001b[0m\u001b[1;33m.\u001b[0m\u001b[0mbegin\u001b[0m\u001b[1;33m(\u001b[0m\u001b[1;33m)\u001b[0m\u001b[1;33m\u001b[0m\u001b[1;33m\u001b[0m\u001b[0m\n\u001b[0m\u001b[0;32m   1348\u001b[0m             \u001b[1;32mexcept\u001b[0m \u001b[0mConnectionError\u001b[0m\u001b[1;33m:\u001b[0m\u001b[1;33m\u001b[0m\u001b[1;33m\u001b[0m\u001b[0m\n\u001b[0;32m   1349\u001b[0m                 \u001b[0mself\u001b[0m\u001b[1;33m.\u001b[0m\u001b[0mclose\u001b[0m\u001b[1;33m(\u001b[0m\u001b[1;33m)\u001b[0m\u001b[1;33m\u001b[0m\u001b[1;33m\u001b[0m\u001b[0m\n",
      "\u001b[1;32mC:\\Tools\\Python\\lib\\http\\client.py\u001b[0m in \u001b[0;36mbegin\u001b[1;34m(self)\u001b[0m\n\u001b[0;32m    305\u001b[0m         \u001b[1;31m# read until we get a non-100 response\u001b[0m\u001b[1;33m\u001b[0m\u001b[1;33m\u001b[0m\u001b[1;33m\u001b[0m\u001b[0m\n\u001b[0;32m    306\u001b[0m         \u001b[1;32mwhile\u001b[0m \u001b[1;32mTrue\u001b[0m\u001b[1;33m:\u001b[0m\u001b[1;33m\u001b[0m\u001b[1;33m\u001b[0m\u001b[0m\n\u001b[1;32m--> 307\u001b[1;33m             \u001b[0mversion\u001b[0m\u001b[1;33m,\u001b[0m \u001b[0mstatus\u001b[0m\u001b[1;33m,\u001b[0m \u001b[0mreason\u001b[0m \u001b[1;33m=\u001b[0m \u001b[0mself\u001b[0m\u001b[1;33m.\u001b[0m\u001b[0m_read_status\u001b[0m\u001b[1;33m(\u001b[0m\u001b[1;33m)\u001b[0m\u001b[1;33m\u001b[0m\u001b[1;33m\u001b[0m\u001b[0m\n\u001b[0m\u001b[0;32m    308\u001b[0m             \u001b[1;32mif\u001b[0m \u001b[0mstatus\u001b[0m \u001b[1;33m!=\u001b[0m \u001b[0mCONTINUE\u001b[0m\u001b[1;33m:\u001b[0m\u001b[1;33m\u001b[0m\u001b[1;33m\u001b[0m\u001b[0m\n\u001b[0;32m    309\u001b[0m                 \u001b[1;32mbreak\u001b[0m\u001b[1;33m\u001b[0m\u001b[1;33m\u001b[0m\u001b[0m\n",
      "\u001b[1;32mC:\\Tools\\Python\\lib\\http\\client.py\u001b[0m in \u001b[0;36m_read_status\u001b[1;34m(self)\u001b[0m\n\u001b[0;32m    266\u001b[0m \u001b[1;33m\u001b[0m\u001b[0m\n\u001b[0;32m    267\u001b[0m     \u001b[1;32mdef\u001b[0m \u001b[0m_read_status\u001b[0m\u001b[1;33m(\u001b[0m\u001b[0mself\u001b[0m\u001b[1;33m)\u001b[0m\u001b[1;33m:\u001b[0m\u001b[1;33m\u001b[0m\u001b[1;33m\u001b[0m\u001b[0m\n\u001b[1;32m--> 268\u001b[1;33m         \u001b[0mline\u001b[0m \u001b[1;33m=\u001b[0m \u001b[0mstr\u001b[0m\u001b[1;33m(\u001b[0m\u001b[0mself\u001b[0m\u001b[1;33m.\u001b[0m\u001b[0mfp\u001b[0m\u001b[1;33m.\u001b[0m\u001b[0mreadline\u001b[0m\u001b[1;33m(\u001b[0m\u001b[0m_MAXLINE\u001b[0m \u001b[1;33m+\u001b[0m \u001b[1;36m1\u001b[0m\u001b[1;33m)\u001b[0m\u001b[1;33m,\u001b[0m \u001b[1;34m\"iso-8859-1\"\u001b[0m\u001b[1;33m)\u001b[0m\u001b[1;33m\u001b[0m\u001b[1;33m\u001b[0m\u001b[0m\n\u001b[0m\u001b[0;32m    269\u001b[0m         \u001b[1;32mif\u001b[0m \u001b[0mlen\u001b[0m\u001b[1;33m(\u001b[0m\u001b[0mline\u001b[0m\u001b[1;33m)\u001b[0m \u001b[1;33m>\u001b[0m \u001b[0m_MAXLINE\u001b[0m\u001b[1;33m:\u001b[0m\u001b[1;33m\u001b[0m\u001b[1;33m\u001b[0m\u001b[0m\n\u001b[0;32m    270\u001b[0m             \u001b[1;32mraise\u001b[0m \u001b[0mLineTooLong\u001b[0m\u001b[1;33m(\u001b[0m\u001b[1;34m\"status line\"\u001b[0m\u001b[1;33m)\u001b[0m\u001b[1;33m\u001b[0m\u001b[1;33m\u001b[0m\u001b[0m\n",
      "\u001b[1;32mC:\\Tools\\Python\\lib\\socket.py\u001b[0m in \u001b[0;36mreadinto\u001b[1;34m(self, b)\u001b[0m\n\u001b[0;32m    702\u001b[0m         \u001b[1;32mwhile\u001b[0m \u001b[1;32mTrue\u001b[0m\u001b[1;33m:\u001b[0m\u001b[1;33m\u001b[0m\u001b[1;33m\u001b[0m\u001b[0m\n\u001b[0;32m    703\u001b[0m             \u001b[1;32mtry\u001b[0m\u001b[1;33m:\u001b[0m\u001b[1;33m\u001b[0m\u001b[1;33m\u001b[0m\u001b[0m\n\u001b[1;32m--> 704\u001b[1;33m                 \u001b[1;32mreturn\u001b[0m \u001b[0mself\u001b[0m\u001b[1;33m.\u001b[0m\u001b[0m_sock\u001b[0m\u001b[1;33m.\u001b[0m\u001b[0mrecv_into\u001b[0m\u001b[1;33m(\u001b[0m\u001b[0mb\u001b[0m\u001b[1;33m)\u001b[0m\u001b[1;33m\u001b[0m\u001b[1;33m\u001b[0m\u001b[0m\n\u001b[0m\u001b[0;32m    705\u001b[0m             \u001b[1;32mexcept\u001b[0m \u001b[0mtimeout\u001b[0m\u001b[1;33m:\u001b[0m\u001b[1;33m\u001b[0m\u001b[1;33m\u001b[0m\u001b[0m\n\u001b[0;32m    706\u001b[0m                 \u001b[0mself\u001b[0m\u001b[1;33m.\u001b[0m\u001b[0m_timeout_occurred\u001b[0m \u001b[1;33m=\u001b[0m \u001b[1;32mTrue\u001b[0m\u001b[1;33m\u001b[0m\u001b[1;33m\u001b[0m\u001b[0m\n",
      "\u001b[1;31mKeyboardInterrupt\u001b[0m: "
     ]
    }
   ],
   "source": [
    "while i < len(wx_gallery_info):\n",
    "    print(f'尝试上传第 {i+1} 张图片...', end='')\n",
    "    photo = wx_gallery_info[i]\n",
    "    if photo['album_id'] not in webapp_activity:\n",
    "        print('活动不存在，跳过')\n",
    "        i += 1\n",
    "        continue\n",
    "    activity_id = webapp_activity[photo['album_id']].id\n",
    "    for retry in range(5):\n",
    "        try:\n",
    "            # 先完成照片上传\n",
    "            photo_id = upload_picture(photo['content'], activity_id)\n",
    "            webapp_photo[photo['_id']] = ActivityPhoto.objects.get(id=photo_id)\n",
    "            # 从数据库修改上传者\n",
    "            u = webapp_user[photo['_openid']] if photo['_openid'] in webapp_user else None\n",
    "            webapp_photo[photo['_id']].user = u\n",
    "            webapp_photo[photo['_id']].save()\n",
    "            print('成功')\n",
    "            i += 1\n",
    "            break\n",
    "        except ConnectionError:\n",
    "            if retry == 4:\n",
    "                print(f'\\n第 {i+1} 张图片第 {retry+1} 次上传失败，退出')\n",
    "                raise Exception\n",
    "            print(f'\\n第 {i+1} 张图片第 {retry+1} 次上传失败，重试')"
   ]
  },
  {
   "cell_type": "code",
   "execution_count": null,
   "metadata": {},
   "outputs": [],
   "source": []
  }
 ],
 "metadata": {
  "kernelspec": {
   "name": "python390jvsc74a57bd0b3a81910d08b119b8520339f0cd07e9f4bdc18a81ead01e70ab479c2d0784276",
   "display_name": "Python 3.9.0 64-bit"
  },
  "language_info": {
   "codemirror_mode": {
    "name": "ipython",
    "version": 3
   },
   "file_extension": ".py",
   "mimetype": "text/x-python",
   "name": "python",
   "nbconvert_exporter": "python",
   "pygments_lexer": "ipython3",
   "version": "3.9.0"
  }
 },
 "nbformat": 4,
 "nbformat_minor": 2
}