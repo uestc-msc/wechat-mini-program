{
 "cells": [
  {
   "cell_type": "markdown",
   "metadata": {},
   "source": [
    "本转换脚本适用于微信小程序 **v1.3.2**、Web App 后端 **v0.2.0**\n",
    "\n",
    "**本脚本会抹除后端数据库中所有数据！！！！！！**如需要，请提前做好备份！！！"
   ]
  },
  {
   "cell_type": "markdown",
   "metadata": {},
   "source": [
    "1. 首先需要将微信小程序云数据库的 `activity_info`、`album_info`、`comment_info` 和 `user_info` 表分别导出为 `activity_info.json`、`album_info.json`、`comment_info.json` 和 `user_info.json`，放在该 Jupyter Notebook 的同一目录。\n",
    "2. 请提前做好对 `user_info.json` 的数据清洗。（可使用 `//` 注释错误的信息）\n",
    "3. 如需迁移图片，还需要对 Django Server 进行交互，所以请提前在 localhost:8000 运行 Django Server"
   ]
  },
  {
   "cell_type": "code",
   "execution_count": 1,
   "metadata": {},
   "outputs": [],
   "source": [
    "# 设置 superuser 的信息，请及时修改\n",
    "superuser_name = '刘俨晖'\n",
    "superuser_email = 'lyh543@outlook.com'\n",
    "superuser_password = 'superuser'\n",
    "\n",
    "baseUrl = 'http://localhost:8000/api'"
   ]
  },
  {
   "cell_type": "code",
   "execution_count": 2,
   "metadata": {},
   "outputs": [],
   "source": [
    "import os\n",
    "# 设置 Django 项目的路径\n",
    "DJANGO_PROJECT_PATH = r\"C:\\Tools\\Git\\uestcmsc-webapp\\uestcmsc_webapp_backend\"\n",
    "# 备份当前路径\n",
    "try:\n",
    "    os.chdir(WX_DATA_PATH)\n",
    "except NameError:\n",
    "    WX_DATA_PATH = os.path.abspath('.')"
   ]
  },
  {
   "cell_type": "code",
   "execution_count": 3,
   "metadata": {},
   "outputs": [],
   "source": [
    "import json\n",
    "def read_wx_json(filename: str) -> list[dict]: \n",
    "    li = []\n",
    "    with open(filename, encoding='utf-8') as f:\n",
    "        for line in f:\n",
    "            if not line.startswith('//'):   # 支持注释\n",
    "                li.append(json.loads(line))\n",
    "    return li\n",
    "\n",
    "wx_activity_info = read_wx_json('activity_info.json')\n",
    "wx_gallery_info = read_wx_json('album_info.json')\n",
    "# wx_comment_info = read_wx_json('comment_info.json')\n",
    "wx_user_info = read_wx_json('user_info.json')"
   ]
  },
  {
   "cell_type": "code",
   "execution_count": 4,
   "metadata": {},
   "outputs": [],
   "source": [
    "# 配置 Django\n",
    "import django\n",
    "os.chdir(DJANGO_PROJECT_PATH)\n",
    "os.environ[\"DJANGO_SETTINGS_MODULE\"]=\"uestcmsc_webapp_backend.settings\"\n",
    "os.environ[\"DJANGO_ALLOW_ASYNC_UNSAFE\"] = \"true\"\n",
    "django.setup()"
   ]
  },
  {
   "cell_type": "code",
   "execution_count": 5,
   "metadata": {},
   "outputs": [],
   "source": [
    "from users.models import User, UserProfile\n",
    "from activities.models import Activity\n",
    "from activities_photos.models import ActivityPhoto\n",
    "from activities_files.models import ActivityFile, ActivityFolder\n",
    "from activities_links.models import ActivityLink\n",
    "\n",
    "from cloud.onedrive import onedrive_activity_directory"
   ]
  },
  {
   "cell_type": "code",
   "execution_count": 6,
   "metadata": {},
   "outputs": [],
   "source": [
    "from datetime import date, time, datetime\n",
    "def str2date(string: str) -> date:\n",
    "    return datetime.strptime(string, '%Y-%m-%d').date()\n",
    "def str2time(string: str) -> time:\n",
    "    return datetime.strptime(string, '%H:%M').time()\n",
    "def str2datetime(string_date: str, string_time: str) -> datetime:\n",
    "    return datetime.combine(str2date(string_date), str2time(string_time))"
   ]
  },
  {
   "cell_type": "code",
   "execution_count": 7,
   "metadata": {
    "tags": []
   },
   "outputs": [],
   "source": [
    "# 用户部分\n",
    "# 本脚本会抹除后端数据库中所有数据！！！\n",
    "import warnings\n",
    "warnings.filterwarnings('ignore')\n",
    "\n",
    "User.objects.all().delete()\n",
    "webapp_user = dict()\n",
    "\n",
    "for wx_user in wx_user_info:\n",
    "    u = User(username=wx_user['_id'],\n",
    "             is_staff=wx_user['is_admin'],\n",
    "             first_name=wx_user['username'],\n",
    "             is_superuser=wx_user['can_grant_admin'],\n",
    "             date_joined=str2date(wx_user['register_date']))\n",
    "    u.save()\n",
    "    up = UserProfile(user=u,\n",
    "                     student_id=wx_user['student_id'],\n",
    "                     experience=wx_user['exp'])\n",
    "    up.save()\n",
    "    webapp_user[wx_user['_id']] = u"
   ]
  },
  {
   "cell_type": "code",
   "execution_count": 8,
   "metadata": {},
   "outputs": [],
   "source": [
    "# 设置 superuser 的信息\n",
    "from hashlib import md5\n",
    "superuser = User.objects.filter(first_name=superuser_name)[0]\n",
    "superuser.username = superuser_email\n",
    "superuser.is_superuser = True\n",
    "superuser.is_staff = True\n",
    "md5_password = md5(superuser_password.encode()).hexdigest()\n",
    "superuser.set_password(md5_password)\n",
    "superuser.save()"
   ]
  },
  {
   "cell_type": "code",
   "execution_count": 9,
   "metadata": {},
   "outputs": [],
   "source": [
    "# 活动部分\n",
    "# 本脚本会抹除后端数据库中所有数据！！！\n",
    "Activity.objects.all().delete()\n",
    "webapp_activity = dict()\n",
    "\n",
    "for wx_activity in wx_activity_info:\n",
    "    if wx_activity['is_hidden']:\n",
    "        continue\n",
    "    activity = Activity(datetime = str2datetime(wx_activity['date'], wx_activity['time']),\n",
    "                        location = wx_activity['location'],\n",
    "                        title = wx_activity['title'],)\n",
    "    activity.save()\n",
    "    webapp_activity[wx_activity['_id']] = activity\n",
    "\n",
    "    for wx_presenter_id in wx_activity['presenter_list']:\n",
    "        activity.presenter.add(webapp_user[wx_presenter_id])\n",
    "    for wx_attender_id in wx_activity['check_in_list']:\n",
    "        if wx_attender_id in webapp_user: # 可能有用户参加了活动，但没有绑定信息，只能忽略掉此次签到\n",
    "            activity.attender.add(webapp_user[wx_attender_id])"
   ]
  },
  {
   "cell_type": "code",
   "execution_count": 10,
   "metadata": {},
   "outputs": [],
   "source": [
    "# 将微信链接：\"cloud://uestc-msc-activities.7565-uestc-msc-activities-1302714164/album/1b64dd7b5f92dd3801e7dfc40da7bd69/1603627997528_o42P84g3DmWZIj-qWwPg7tRCT77o_0.jpg\"\n",
    "# 转为：\"https://7565-uestc-msc-activities-1302714164.tcb.qcloud.la/album/1b64dd7b5f92dd3801e7dfc40da7bd69/1603627997528_o42P84g3DmWZIj-qWwPg7tRCT77o_0.jpg\"\n",
    "def convert_wxcloud_url(wxcloud_url: str) -> str:\n",
    "    eTLD = '.tcb.qcloud.la' # 可能需要根据自己的配置进行修改\n",
    "    domain_path = wxcloud_url[8 :]\n",
    "\n",
    "    first_slash = domain_path.find('/')\n",
    "    domain = domain_path[0 : first_slash]\n",
    "    path = domain_path[first_slash:]\n",
    "\n",
    "    domain_without_appname = domain[domain.find('.')+1 :]\n",
    "    url = f'https://{domain_without_appname}{eTLD}{path}'\n",
    "    return url\n",
    "\n",
    "# 测试，无输出即正确\n",
    "assert convert_wxcloud_url(\"cloud://uestc-msc-activities.7565-uestc-msc-activities-1302714164/album/1b64dd7b5f92dd3801e7dfc40da7bd69/1603500082323_o42P84rWrKnSMDk-kskAJZXuwzlM_0.jpg\") == \"https://7565-uestc-msc-activities-1302714164.tcb.qcloud.la/album/1b64dd7b5f92dd3801e7dfc40da7bd69/1603500082323_o42P84rWrKnSMDk-kskAJZXuwzlM_0.jpg\"\n",
    "assert convert_wxcloud_url(\"cloud://uestc-msc-activities.7565-uestc-msc-activities-1302714164/album/1b64dd7b5f92dd3801e7dfc40da7bd69/1603627997528_o42P84g3DmWZIj-qWwPg7tRCT77o_0.jpg\") == \"https://7565-uestc-msc-activities-1302714164.tcb.qcloud.la/album/1b64dd7b5f92dd3801e7dfc40da7bd69/1603627997528_o42P84g3DmWZIj-qWwPg7tRCT77o_0.jpg\""
   ]
  },
  {
   "cell_type": "code",
   "execution_count": 11,
   "metadata": {},
   "outputs": [
    {
     "output_type": "stream",
     "name": "stdout",
     "text": [
      "下载 1 / 26\n",
      "下载 2 / 26\n",
      "下载 3 / 26\n",
      "下载 4 / 26\n",
      "下载 5 / 26\n",
      "下载 6 / 26\n",
      "下载 7 / 26\n",
      "下载 8 / 26\n",
      "下载 9 / 26\n",
      "下载 10 / 26\n",
      "下载 11 / 26\n",
      "下载 12 / 26\n",
      "下载 13 / 26\n",
      "下载 14 / 26\n",
      "下载 15 / 26\n",
      "下载 16 / 26\n",
      "下载 17 / 26\n",
      "下载 18 / 26\n",
      "下载 19 / 26\n",
      "下载 20 / 26\n",
      "下载 21 / 26\n",
      "下载 22 / 26\n",
      "下载 23 / 26\n",
      "下载 24 / 26\n",
      "下载 25 / 26\n",
      "下载 26 / 26\n"
     ]
    }
   ],
   "source": [
    "import requests\n",
    "# 提前下载所有照片\n",
    "# 就存在内存里，不会有人内存存不下吧 不会吧不会吧\n",
    "for index, photo in enumerate(wx_gallery_info):\n",
    "    print(f'下载 {index+1} / {len(wx_gallery_info)}')\n",
    "    if 'content' in photo:\n",
    "        continue\n",
    "    url = convert_wxcloud_url(photo['url'])\n",
    "    response = requests.get(url)\n",
    "    assert response.ok\n",
    "    photo['content'] = response.content"
   ]
  },
  {
   "cell_type": "code",
   "execution_count": 12,
   "metadata": {},
   "outputs": [],
   "source": [
    "# 先把云盘的活动数据 rm -rf 了嗷\n",
    "# 本脚本会抹除后端数据库中所有数据！！！\n",
    "response = onedrive_activity_directory.delete(fail_silently=True)\n",
    "if response.status_code not in [204, 404]:\n",
    "    raise Exception"
   ]
  },
  {
   "cell_type": "code",
   "execution_count": 13,
   "metadata": {},
   "outputs": [
    {
     "output_type": "execute_result",
     "data": {
      "text/plain": [
       "(0, {})"
      ]
     },
     "metadata": {},
     "execution_count": 13
    }
   ],
   "source": [
    "ActivityFile.objects.all().delete()\n",
    "ActivityPhoto.objects.all().delete()\n",
    "ActivityFolder.objects.all().delete()"
   ]
  },
  {
   "cell_type": "code",
   "execution_count": 14,
   "metadata": {},
   "outputs": [],
   "source": [
    "# 上号！\n",
    "session = requests.Session()\n",
    "response = session.post(baseUrl + '/accounts/login/', {'username': superuser_email, 'password': md5_password})\n",
    "assert response.ok\n",
    "session.headers['X-CSRFToken'] = session.cookies['csrftoken']"
   ]
  },
  {
   "cell_type": "code",
   "execution_count": 15,
   "metadata": {},
   "outputs": [],
   "source": [
    "def upload_picture(file_data: bytes, activity_id: int, filename=\"俱乐部早期珍贵影像.jpg\") -> str:\n",
    "    # 创建上传会话\n",
    "    response = session.post(baseUrl + '/cloud/file/', {\"filename\": filename})\n",
    "    assert response.ok\n",
    "    content = eval(response.content)\n",
    "    if type(content) is str:    # 有时候是 dict 有时候是 str 我也不知道为什么会这样\n",
    "        content = eval(content)\n",
    "    else:\n",
    "        print('content is dict')\n",
    "    assert type(content) == dict\n",
    "    upload_url = content['uploadUrl']\n",
    "    # 上传文件\n",
    "    file_length = len(file_data)\n",
    "    assert file_length <= 60 * (2 ** 20), \"上传文件应当需要小于 60 MiB\"\n",
    "    headers = {\"Content-Range\": f\"bytes 0-{file_length - 1}/{file_length}\"}\n",
    "    response = requests.put(upload_url, data=file_data, headers=headers)\n",
    "    assert response.ok\n",
    "    file_id = response.json()['id']\n",
    "    # 写入数据库\n",
    "    response = session.post(baseUrl + '/activities/photo/', { \"file_id\": file_id, \"activity_id\": activity_id })\n",
    "    assert response.ok\n",
    "    return file_id"
   ]
  },
  {
   "cell_type": "code",
   "execution_count": 16,
   "metadata": {},
   "outputs": [],
   "source": [
    "# 照片部分，使用 requests 以 superuser 的身份访问 Django Server 完成上传\n",
    "i = 0\n",
    "webapp_photo = dict()"
   ]
  },
  {
   "cell_type": "code",
   "execution_count": 17,
   "metadata": {},
   "outputs": [
    {
     "output_type": "stream",
     "name": "stdout",
     "text": [
      "尝试上传第 1 张图片...成功\n",
      "尝试上传第 2 张图片...活动不存在，跳过\n",
      "尝试上传第 3 张图片...成功\n",
      "尝试上传第 4 张图片...成功\n",
      "尝试上传第 5 张图片...成功\n",
      "尝试上传第 6 张图片...活动不存在，跳过\n",
      "尝试上传第 7 张图片...成功\n",
      "尝试上传第 8 张图片...成功\n",
      "尝试上传第 9 张图片...成功\n",
      "尝试上传第 10 张图片...成功\n",
      "尝试上传第 11 张图片...成功\n",
      "尝试上传第 12 张图片...成功\n",
      "尝试上传第 13 张图片...成功\n",
      "尝试上传第 14 张图片...成功\n",
      "尝试上传第 15 张图片...成功\n",
      "尝试上传第 16 张图片...成功\n",
      "尝试上传第 17 张图片...成功\n",
      "尝试上传第 18 张图片...成功\n",
      "尝试上传第 19 张图片...成功\n",
      "尝试上传第 20 张图片...成功\n",
      "尝试上传第 21 张图片...成功\n",
      "尝试上传第 22 张图片...成功\n",
      "尝试上传第 23 张图片...成功\n",
      "尝试上传第 24 张图片...成功\n",
      "尝试上传第 25 张图片...成功\n",
      "尝试上传第 26 张图片...成功\n"
     ]
    }
   ],
   "source": [
    "while i < len(wx_gallery_info):\n",
    "    print(f'尝试上传第 {i+1} 张图片...', end='')\n",
    "    photo = wx_gallery_info[i]\n",
    "    if photo['album_id'] not in webapp_activity:\n",
    "        print('活动不存在，跳过')\n",
    "        i += 1\n",
    "        continue\n",
    "    activity_id = webapp_activity[photo['album_id']].id\n",
    "    for retry in range(5):\n",
    "        try:\n",
    "            # 先完成照片上传\n",
    "            photo_id = upload_picture(photo['content'], activity_id)\n",
    "            webapp_photo[photo['_id']] = ActivityPhoto.objects.get(id=photo_id)\n",
    "            # 从数据库修改上传者\n",
    "            u = webapp_user[photo['_openid']] if photo['_openid'] in webapp_user else None\n",
    "            webapp_photo[photo['_id']].user = u\n",
    "            webapp_photo[photo['_id']].save()\n",
    "            print('成功')\n",
    "            i += 1\n",
    "            break\n",
    "        except ConnectionError:\n",
    "            if retry == 4:\n",
    "                print(f'\\n第 {i+1} 张图片第 {retry+1} 次上传失败，退出')\n",
    "                raise Exception\n",
    "            print(f'\\n第 {i+1} 张图片第 {retry+1} 次上传失败，重试')"
   ]
  },
  {
   "cell_type": "code",
   "execution_count": null,
   "metadata": {},
   "outputs": [],
   "source": []
  }
 ],
 "metadata": {
  "kernelspec": {
   "name": "python390jvsc74a57bd0b3a81910d08b119b8520339f0cd07e9f4bdc18a81ead01e70ab479c2d0784276",
   "display_name": "Python 3.9.0 64-bit"
  },
  "language_info": {
   "codemirror_mode": {
    "name": "ipython",
    "version": 3
   },
   "file_extension": ".py",
   "mimetype": "text/x-python",
   "name": "python",
   "nbconvert_exporter": "python",
   "pygments_lexer": "ipython3",
   "version": "3.9.0"
  }
 },
 "nbformat": 4,
 "nbformat_minor": 2
}